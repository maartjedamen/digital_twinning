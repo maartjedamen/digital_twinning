{
 "cells": [
  {
   "cell_type": "markdown",
   "metadata": {},
   "source": [
    "# 04_0_ray_calculation\n",
    "This notebook calculates the intersection of rays (for sunrays and daylight 'rays') with the context mesh from voxel centroid towards sun. This results in two dataframes, one that contains information on daylight availability and one that contains information on sunlight availability. \n",
    "\n",
    "For the daylight availability, the script imports a sunpath from ladybug. This Sunpath takes as input a longtitude and latitude over which to take the sun information.\n",
    "\n",
    "For each voxel it casts a ray towards the sunpath. Because of the context arround the building, this ray could be blocked- the voxel does not receive light from this sunray.\n",
    "For all the voxels that have received light, it then casts the ray from the voxel to the sun backwards, to check whether it blocks sun (casts a shadow) from the context. \n"
   ]
  },
  {
   "cell_type": "markdown",
   "metadata": {},
   "source": [
    "## 0. Initialization\n",
    "Importing all necessary libraries and specifying the inputs"
   ]
  },
  {
   "cell_type": "code",
   "execution_count": 1,
   "metadata": {},
   "outputs": [],
   "source": [
    "import os\n",
    "import topogenesis as tg\n",
    "import pyvista as pv\n",
    "import trimesh as tm\n",
    "import numpy as np\n",
    "from ladybug.sunpath import Sunpath\n",
    "from scipy.interpolate import RegularGridInterpolator\n",
    "import digital_twinning as dt\n",
    "import pandas as pd\n"
   ]
  },
  {
   "cell_type": "markdown",
   "metadata": {},
   "source": [
    "## 1. Import Meshes (context + envelope)\n",
    "\n",
    "### 1.1. Load Meshes"
   ]
  },
  {
   "cell_type": "code",
   "execution_count": 2,
   "metadata": {},
   "outputs": [
    {
     "name": "stdout",
     "output_type": "stream",
     "text": [
      "True\n",
      "False\n"
     ]
    }
   ],
   "source": [
    "#loading envelope and context from obj \n",
    "envelope_path = os.path.relpath('../data/OBJ_files/building_envelope.obj')\n",
    "context_path = os.path.relpath('../data/OBJ_files/final_BAG3D.obj')\n",
    "\n",
    "# load the mesh from file\n",
    "envelope_mesh = tm.load(envelope_path)\n",
    "context_mesh = tm.load(context_path)\n",
    "\n",
    "# Check if the mesh is watertight\n",
    "print(envelope_mesh.is_watertight)\n",
    "print(context_mesh.is_watertight)"
   ]
  },
  {
   "cell_type": "markdown",
   "metadata": {},
   "source": [
    "### 1.2. Visualize Meshes (with pyvista)"
   ]
  },
  {
   "cell_type": "code",
   "execution_count": 3,
   "metadata": {},
   "outputs": [
    {
     "data": {
      "application/vnd.jupyter.widget-view+json": {
       "model_id": "02645cd9081445b19d8769a6e7887657",
       "version_major": 2,
       "version_minor": 0
      },
      "text/plain": "ViewInteractiveWidget(height=768, layout=Layout(height='auto', width='100%'), width=1024)"
     },
     "metadata": {},
     "output_type": "display_data"
    },
    {
     "data": {
      "text/plain": "[(84701.87724865344, 448134.6587486534, 327.4372486534429),\n (84384.44, 447817.2215, 10.0),\n (0.0, 0.0, 1.0)]"
     },
     "execution_count": 3,
     "metadata": {},
     "output_type": "execute_result"
    }
   ],
   "source": [
    "# convert mesh to pv_mesh\n",
    "# initiating the plotter\n",
    "p = pv.Plotter(notebook=True)\n",
    "\n",
    "# adding the meshes\n",
    "p.add_mesh(dt.tri_to_pv(envelope_mesh), color='#abd8ff')\n",
    "p.add_mesh(dt.tri_to_pv(context_mesh), color='#aaaaaa')\n",
    "\n",
    "# plotting\n",
    "p.show(use_ipyvtk=True)"
   ]
  },
  {
   "cell_type": "markdown",
   "metadata": {},
   "source": [
    "## 2. Import Lattice (envelope)\n",
    "\n",
    "### 2.1. Load the Envelope Lattice"
   ]
  },
  {
   "cell_type": "code",
   "execution_count": 4,
   "metadata": {},
   "outputs": [],
   "source": [
    "# loading the lattice from csv\n",
    "lattice_path = os.path.relpath('../data/CSV_files/voxelized_envelope.csv')\n",
    "\n",
    "envelope_lattice = tg.lattice_from_csv(lattice_path)\n",
    "\n",
    "#setting the full lattice \n",
    "full_lattice = envelope_lattice * 0 + 1"
   ]
  },
  {
   "cell_type": "markdown",
   "metadata": {},
   "source": [
    "### 2.2. Visualize the Context Mesh + Envelope Lattice"
   ]
  },
  {
   "cell_type": "code",
   "execution_count": 5,
   "metadata": {},
   "outputs": [
    {
     "data": {
      "application/vnd.jupyter.widget-view+json": {
       "model_id": "d624ce22ef414cfeaca9e3d9e1f0df41",
       "version_major": 2,
       "version_minor": 0
      },
      "text/plain": "ViewInteractiveWidget(height=768, layout=Layout(height='auto', width='100%'), width=1024)"
     },
     "metadata": {},
     "output_type": "display_data"
    },
    {
     "data": {
      "text/plain": "[(84702.22192807864, 448135.0034280786, 328.2819280786408),\n (84384.44, 447817.2215, 10.5),\n (0.0, 0.0, 1.0)]"
     },
     "execution_count": 5,
     "metadata": {},
     "output_type": "execute_result"
    }
   ],
   "source": [
    "# initiating the plotter\n",
    "p = pv.Plotter(notebook=True)\n",
    "\n",
    "# fast visualization of the lattice\n",
    "envelope_lattice.fast_vis(p)\n",
    "\n",
    "# adding the context mesh: white\n",
    "p.add_mesh(dt.tri_to_pv(context_mesh), color='#aaaaaa')\n",
    "\n",
    "# plotting\n",
    "p.show(use_ipyvtk=True)\n"
   ]
  },
  {
   "cell_type": "markdown",
   "metadata": {},
   "source": [
    "## 3. Sun Vectors\n",
    "\n",
    "\n",
    "### 3.1. Compute Sun Vectors"
   ]
  },
  {
   "cell_type": "code",
   "execution_count": 6,
   "metadata": {
    "scrolled": true,
    "tags": []
   },
   "outputs": [
    {
     "name": "stdout",
     "output_type": "stream",
     "text": [
      "(158, 3)\n"
     ]
    }
   ],
   "source": [
    "translation_point = envelope_mesh.center_mass\n",
    "translation_point[2] = 0\n",
    "\n",
    "sun_vectors = dt.sun_positions()\n",
    "\n",
    "sun_vectors = sun_vectors * 300\n",
    "sun_points = np.add(sun_vectors, translation_point)\n",
    "# sun_vectors[:, 2] = (sun_vectors[:, 2])*-1\n",
    "\n",
    "print(sun_vectors.shape)"
   ]
  },
  {
   "cell_type": "code",
   "execution_count": 7,
   "metadata": {},
   "outputs": [
    {
     "data": {
      "application/vnd.jupyter.widget-view+json": {
       "model_id": "1f737dfaa9164e3f92178bf6fd730ca3",
       "version_major": 2,
       "version_minor": 0
      },
      "text/plain": "ViewInteractiveWidget(height=768, layout=Layout(height='auto', width='100%'), width=1024)"
     },
     "metadata": {},
     "output_type": "display_data"
    },
    {
     "data": {
      "text/plain": "[(85288.07383067516, 448664.0178023606, 1030.6752637571387),\n (84388.23267984093, 447764.17665152636, 130.83411292291257),\n (0.0, 0.0, 1.0)]"
     },
     "execution_count": 7,
     "metadata": {},
     "output_type": "execute_result"
    }
   ],
   "source": [
    "# initiating the plotter\n",
    "p = pv.Plotter(notebook=True)\n",
    "\n",
    "# fast visualization of the lattice\n",
    "envelope_lattice.fast_vis(p)\n",
    "\n",
    "# adding the meshes\n",
    "p.add_mesh(dt.tri_to_pv(context_mesh), color='#aaaaaa')\n",
    "\n",
    "# add the sun locations, color orange\n",
    "p.add_points(sun_points, color='#ffa500')\n",
    "\n",
    "# plotting\n",
    "p.show(use_ipyvtk=True)"
   ]
  },
  {
   "cell_type": "markdown",
   "metadata": {},
   "source": [
    "## 4. Compute Intersection of Sun Rays with Context Mesh\n",
    "\n",
    "### 4.1. Preparing the List of Ray Directions and Origins"
   ]
  },
  {
   "cell_type": "code",
   "execution_count": 8,
   "metadata": {},
   "outputs": [
    {
     "name": "stdout",
     "output_type": "stream",
     "text": [
      "number of voxels to shoot rays from : (287, 3)\n",
      "number of rays per each voxel : (158, 3)\n",
      "number of rays to be shooted : (45346, 3)\n"
     ]
    }
   ],
   "source": [
    "# constructing the sun direction from the sun vectors in a numpy array\n",
    "sun_dirs = np.array(sun_vectors)\n",
    "# exract the centroids of the envelope voxels\n",
    "vox_cens = envelope_lattice.centroids\n",
    "# next step we need to shoot in all of the sun directions from all of the voxels. To do so, we need to repeat the sun direction for the number of voxels to construct all ray directions (ray_dir). Also, we need to repeat the voxels for the amount of rays that it will receive. This results in a total amount of rays to be shooted (ray_src).  \n",
    "\n",
    "ray_dir = np.tile(sun_dirs, [len(vox_cens),1])\n",
    "ray_src = np.tile(vox_cens, [1, len(sun_dirs)]).reshape(-1, 3)\n",
    "\n",
    "\n",
    "print(\"number of voxels to shoot rays from :\",vox_cens.shape)\n",
    "print(\"number of rays per each voxel :\",sun_dirs.shape)\n",
    "print(\"number of rays to be shooted :\",ray_src.shape)"
   ]
  },
  {
   "cell_type": "markdown",
   "metadata": {},
   "source": [
    "### 4.2. Computing the Intersection"
   ]
  },
  {
   "cell_type": "code",
   "execution_count": 9,
   "metadata": {},
   "outputs": [],
   "source": [
    "# computing the intersections of rays with the context mesh from voxel centroid towards sun \n",
    "f_tri_id, ray_id = context_mesh.ray.intersects_id(ray_origins=ray_src, ray_directions=ray_dir, multiple_hits=False)"
   ]
  },
  {
   "cell_type": "code",
   "execution_count": null,
   "metadata": {},
   "outputs": [],
   "source": [
    "sunray_id = pd.DataFrame(ray_id)\r\n",
    "# save the sun access lattice to csv\r\n",
    "lattice_dir = '../data/CSV_files/sun_hits.csv'\r\n",
    "dt.save_to_clean_csv(sunray_id, lattice_dir)"
   ]
  },
  {
   "cell_type": "markdown",
   "metadata": {},
   "source": [
    "## daylight\n"
   ]
  },
  {
   "cell_type": "code",
   "execution_count": 15,
   "metadata": {},
   "outputs": [],
   "source": [
    "#Create a sphere to put points on that represent the sky \r\n",
    "\r\n",
    "\r\n",
    "sky_vectors = dt.sky_positions()\r\n",
    "sky_points = np.add(sky_vectors, translation_point)"
   ]
  },
  {
   "cell_type": "code",
   "execution_count": 16,
   "metadata": {},
   "outputs": [
    {
     "data": {
      "application/vnd.jupyter.widget-view+json": {
       "model_id": "7862720448244972be4bf93f3dd44f24",
       "version_major": 2,
       "version_minor": 0
      },
      "text/plain": "ViewInteractiveWidget(height=768, layout=Layout(height='auto', width='100%'), width=1024)"
     },
     "metadata": {},
     "output_type": "display_data"
    },
    {
     "data": {
      "text/plain": "[(85352.81071094499, 448782.9175240621, 1114.9455572142892),\n (84387.1151537307, 447817.22196684784, 149.25),\n (0.0, 0.0, 1.0)]"
     },
     "execution_count": 16,
     "metadata": {},
     "output_type": "execute_result"
    }
   ],
   "source": [
    "# initiating the plotter\n",
    "p = pv.Plotter(notebook=True)\n",
    "\n",
    "# fast visualization of the lattice\n",
    "envelope_lattice.fast_vis(p)\n",
    "\n",
    "# adding the meshes\n",
    "p.add_mesh(dt.tri_to_pv(context_mesh), color='#aaaaaa')\n",
    "\n",
    "# add the sun locations, color orange\n",
    "p.add_points(sky_points, color='#ffa500')\n",
    "\n",
    "# plotting\n",
    "p.show(use_ipyvtk=True)"
   ]
  },
  {
   "cell_type": "code",
   "execution_count": 17,
   "metadata": {},
   "outputs": [
    {
     "name": "stdout",
     "output_type": "stream",
     "text": [
      "number of voxels to shoot rays from : (287, 3)\n",
      "number of rays per each voxel : (73, 3)\n",
      "number of rays to be shooted : (45346, 3)\n"
     ]
    }
   ],
   "source": [
    "# constructing the sun direction from the sun vectors in a numpy array\r\n",
    "sky_dirs = np.array(sky_vectors)\r\n",
    "\r\n",
    "# next step we need to shoot in all of the sun directions from all of the voxels. To do so, we need to repeat the sun direction for the number of voxels to construct all ray directions (ray_dir). Also, we need to repeat the voxels for the amount of rays that it will receive. This results in a total amount of rays to be shooted (ray_src).  \r\n",
    "\r\n",
    "sky_ray_dir = np.tile(sun_dirs, [len(vox_cens),1])\r\n",
    "sky_ray_src = np.tile(vox_cens, [1, len(sun_dirs)]).reshape(-1, 3)\r\n",
    "\r\n",
    "\r\n",
    "print(\"number of voxels to shoot rays from :\",vox_cens.shape)\r\n",
    "print(\"number of rays per each voxel :\",sky_dirs.shape)\r\n",
    "print(\"number of rays to be shooted :\",ray_src.shape)"
   ]
  },
  {
   "cell_type": "code",
   "execution_count": 19,
   "metadata": {},
   "outputs": [],
   "source": [
    "# computing the intersections of rays with the context mesh from voxel centroid towards sun \r\n",
    "f_tri_id_light, daylight_id = context_mesh.ray.intersects_id(ray_origins=sky_ray_src, ray_directions=sky_ray_dir, multiple_hits=False)"
   ]
  },
  {
   "cell_type": "code",
   "execution_count": 20,
   "metadata": {},
   "outputs": [],
   "source": [
    "daylight_id = pd.DataFrame(daylight_id)\n",
    "# save the sun access lattice to csv\n",
    "lattice_dir = '../data/CSV_files/daylight_hits.csv'\n",
    "dt.save_to_clean_csv(daylight_id, lattice_dir)"
   ]
  },
  {
   "cell_type": "code",
   "execution_count": null,
   "metadata": {},
   "outputs": [],
   "source": []
  }
 ],
 "metadata": {
  "interpreter": {
   "hash": "f8b4632722eedeef144f2edd56d00b3dd918611df436bef42fdd910d93add0b5"
  },
  "kernelspec": {
   "display_name": "Python 3.8.4 64-bit ('sc_workshops': conda)",
   "name": "python384jvsc74a57bd07bab519eaee00f5a36818a1fec79a4512342b76c2b97edf1e769d1f51660a6b2"
  },
  "language_info": {
   "codemirror_mode": {
    "name": "ipython",
    "version": 3
   },
   "file_extension": ".py",
   "mimetype": "text/x-python",
   "name": "python",
   "nbconvert_exporter": "python",
   "pygments_lexer": "ipython3",
   "version": "3.8.4"
  }
 },
 "nbformat": 4,
 "nbformat_minor": 2
}