{
 "metadata": {
  "language_info": {
   "codemirror_mode": {
    "name": "ipython",
    "version": 3
   },
   "file_extension": ".py",
   "mimetype": "text/x-python",
   "name": "python",
   "nbconvert_exporter": "python",
   "pygments_lexer": "ipython3",
   "version": "3.8.4"
  },
  "orig_nbformat": 2,
  "kernelspec": {
   "name": "python384jvsc74a57bd07bab519eaee00f5a36818a1fec79a4512342b76c2b97edf1e769d1f51660a6b2",
   "display_name": "Python 3.8.4 64-bit ('sc_workshops': conda)"
  }
 },
 "nbformat": 4,
 "nbformat_minor": 2,
 "cells": [
  {
   "source": [
    "## filter the .obj file to only keep the objects within the bounding box\n"
   ],
   "cell_type": "markdown",
   "metadata": {}
  },
  {
   "cell_type": "code",
   "execution_count": 1,
   "metadata": {},
   "outputs": [],
   "source": [
    "import trimesh as tm\n",
    "import numpy as np\n",
    "import pandas as pd\n",
    "import pprint"
   ]
  },
  {
   "cell_type": "code",
   "execution_count": 14,
   "metadata": {},
   "outputs": [],
   "source": [
    "context_path = os.path.relpath('../data/OBJ_files/building_envelope.obj')\n",
    "\n",
    "envelope_mesh = tm.load_mesh(context_path, process=False)\n",
    "\n",
    "all_vertices = envelope_mesh.vertices.tolist()\n",
    "vertices_df = pd.DataFrame(all_vertices)\n",
    "\n",
    "#return true for all vertices that fall within the bounding box: \n",
    "b_box =[83738.31556157247, 445723.7648830635, 84831.3496488015, 447090.82246806903] #made smaller for trial\n",
    "# b_box = [83738.31556157247, 445723.7648830635, 84831.3496488015, 448090.82246806903] # full b_box\n",
    "\n",
    "\n",
    "vertices_df['xmin'] = b_box[0] < vertices_df[0] \n",
    "vertices_df['xmax'] = vertices_df[0] < b_box[2]\n",
    "vertices_df['ymin'] = b_box[1] < vertices_df[1]\n",
    "vertices_df['ymax'] = vertices_df[1] < b_box[3]\n"
   ]
  },
  {
   "cell_type": "code",
   "execution_count": 15,
   "metadata": {},
   "outputs": [],
   "source": [
    "# add indices-column\n",
    "vertices_df.reset_index(inplace=True)\n",
    "\n",
    "# remove all vertices that do not fall within the bounding box\n",
    "condition_matrix = vertices_df[['xmin', 'xmax', 'ymin', 'ymax']].to_numpy()\n",
    "vertices_df['to_keep'] = (condition_matrix.sum(axis=1) == 4)\n",
    "bboxed_vertices = vertices_df[(vertices_df.to_keep == True )]"
   ]
  },
  {
   "cell_type": "code",
   "execution_count": 16,
   "metadata": {},
   "outputs": [],
   "source": [
    "bboxed_vertices = bboxed_vertices.drop(['xmin', 'xmax', 'ymin', 'ymax', 'to_keep'], axis = 1)\n",
    "bboxed_vertices = bboxed_vertices.to_numpy()"
   ]
  },
  {
   "cell_type": "code",
   "execution_count": 18,
   "metadata": {},
   "outputs": [],
   "source": [
    "\n",
    "lst = [0]*len(bboxed_vertices)\n",
    "for i, elem in enumerate(bboxed_vertices):\n",
    "    lst[i] = int(elem[0])\n",
    "\n",
    "translationlist = [0]*len(bboxed_vertices)\n",
    "for i, elem in enumerate(bboxed_vertices):\n",
    "    translationlist[i] = [i, int(elem[0])]\n",
    "\n",
    "final_bounded_vertices = [0]*len(bboxed_vertices)\n",
    "for i, elem in enumerate(bboxed_vertices):\n",
    "    final_bounded_vertices[i] = [elem[1], elem[2], elem[3]]"
   ]
  },
  {
   "cell_type": "code",
   "execution_count": 19,
   "metadata": {},
   "outputs": [],
   "source": [
    "y = [elem for elem in lst]\n",
    "faces = envelope_mesh.faces.tolist()\n",
    "\n",
    "bounded_faces = []\n",
    "\n",
    "for x in faces:\n",
    "    if len(set(x+y))==len(y):\n",
    "        bounded_faces.append(x)"
   ]
  },
  {
   "cell_type": "code",
   "execution_count": 20,
   "metadata": {},
   "outputs": [],
   "source": [
    "flatList = [item for elem in bounded_faces for item in elem]\n",
    "newlist = []\n",
    "for val in flatList: \n",
    "    if val in lst: \n",
    "        newval = lst.index(val)\n",
    "        newlist.append(newval)\n",
    "\n",
    "final_bounded_faces = [newlist[i:i + 3] for i in range(0, len(newlist), 3)]\n",
    "final_bounded_faces = np.array(final_bounded_faces)"
   ]
  },
  {
   "cell_type": "code",
   "execution_count": 21,
   "metadata": {},
   "outputs": [],
   "source": [
    "combined_mesh = tm.Trimesh(final_bounded_vertices, final_bounded_faces)"
   ]
  },
  {
   "cell_type": "code",
   "execution_count": 22,
   "metadata": {},
   "outputs": [],
   "source": [
    "obj = tm.exchange.obj.export_obj(combined_mesh)"
   ]
  },
  {
   "cell_type": "code",
   "execution_count": 23,
   "metadata": {},
   "outputs": [],
   "source": [
    "file_name = '../data/OBJ_files/TEST.obj'\n",
    "with open(file_name, 'w') as f:\n",
    "    f.write(obj)"
   ]
  }
 ]
}