{
 "cells": [
  {
   "cell_type": "markdown",
   "metadata": {},
   "source": [
    "# Voxelization\n",
    "In this notebook we will voxelize the input volume and construct a lattice from it. The method is copied from spatial computing (https://github.com/shervinazadi/spatial_computing_workshops) using the topogenesis library.  \n"
   ]
  },
  {
   "cell_type": "markdown",
   "metadata": {},
   "source": [
    "## 0. Initialization\n",
    "Importing all necessary libraries and specifying the inputs"
   ]
  },
  {
   "cell_type": "code",
   "execution_count": 1,
   "metadata": {
    "tags": []
   },
   "outputs": [],
   "source": [
    "import os\n",
    "import topogenesis as tg\n",
    "import pyvista as pv\n",
    "import trimesh as tm\n",
    "import numpy as np\n",
    "import pandas as pd\n",
    "import copy\n",
    "import digital_twinning as dt"
   ]
  },
  {
   "cell_type": "code",
   "execution_count": 2,
   "metadata": {},
   "outputs": [],
   "source": [
    "vs = 3\n",
    "unit = [vs, vs, vs]\n",
    "\n",
    "mesh_path_building = os.path.relpath('../data/OBJ_files/building_envelope.obj')\n",
    "mesh_path_context = os.path.relpath('../data/OBJ_files/final_BAG3D.obj')"
   ]
  },
  {
   "cell_type": "markdown",
   "metadata": {},
   "source": [
    "## 1. Input Mesh"
   ]
  },
  {
   "cell_type": "code",
   "execution_count": 3,
   "metadata": {},
   "outputs": [
    {
     "output_type": "stream",
     "name": "stdout",
     "text": [
      "True\nFalse\n"
     ]
    }
   ],
   "source": [
    "# load the mesh from file\n",
    "envelope_mesh = tm.load(mesh_path_building)\n",
    "context_mesh = tm.load(mesh_path_context)\n",
    "# Check if the mesh is watertight\n",
    "\n",
    "print(envelope_mesh.is_watertight)\n",
    "print(context_mesh.is_watertight)"
   ]
  },
  {
   "source": [
    "### visualize the meshes"
   ],
   "cell_type": "markdown",
   "metadata": {}
  },
  {
   "cell_type": "code",
   "execution_count": 4,
   "metadata": {},
   "outputs": [
    {
     "output_type": "display_data",
     "data": {
      "text/plain": "ViewInteractiveWidget(height=768, layout=Layout(height='auto', width='100%'), width=1024)",
      "application/vnd.jupyter.widget-view+json": {
       "version_major": 2,
       "version_minor": 0,
       "model_id": "969e0ece0817439499de764b16baec16"
      }
     },
     "metadata": {}
    },
    {
     "output_type": "execute_result",
     "data": {
      "text/plain": [
       "[(84701.87724865344, 448134.6587486534, 327.4372486534429),\n",
       " (84384.44, 447817.2215, 10.0),\n",
       " (0.0, 0.0, 1.0)]"
      ]
     },
     "metadata": {},
     "execution_count": 4
    }
   ],
   "source": [
    "# convert mesh to pv_mesh\n",
    "# initiating the plotter\n",
    "p = pv.Plotter(notebook=True)\n",
    "\n",
    "# adding the meshes\n",
    "p.add_mesh(dt.tri_to_pv(envelope_mesh), color='#abd8ff')\n",
    "p.add_mesh(dt.tri_to_pv(context_mesh), color='#aaaaaa')\n",
    "\n",
    "# plotting\n",
    "p.show(use_ipyvtk=True)"
   ]
  },
  {
   "cell_type": "code",
   "execution_count": 5,
   "metadata": {},
   "outputs": [],
   "source": [
    "#start point array\n",
    "envelope_mesh.vertices += np.array([0,0,vs/2])"
   ]
  },
  {
   "cell_type": "markdown",
   "metadata": {},
   "source": [
    "## 2. Voxelize the Mesh"
   ]
  },
  {
   "cell_type": "code",
   "execution_count": 6,
   "metadata": {},
   "outputs": [],
   "source": [
    "# initialize the base lattice\n",
    "base_lattice = tg.lattice(envelope_mesh.bounds, unit=unit, default_value=1, dtype=int)\n",
    "\n",
    "# check which voxel centroids is inside the mesh\n",
    "interior_condition = envelope_mesh.contains(base_lattice.centroids)\n",
    "\n",
    "# reshape the interior condition to the shape of the base_lattice\n",
    "interior_array = interior_condition.reshape(base_lattice.shape)\n",
    "\n",
    "# convert the interior array into a lattice\n",
    "interior_lattice = tg.to_lattice(interior_array, base_lattice.minbound, base_lattice.unit)"
   ]
  },
  {
   "source": [
    "### visualize the voxization lattice"
   ],
   "cell_type": "markdown",
   "metadata": {}
  },
  {
   "cell_type": "code",
   "execution_count": 7,
   "metadata": {
    "scrolled": false
   },
   "outputs": [
    {
     "output_type": "display_data",
     "data": {
      "text/plain": "ViewInteractiveWidget(height=768, layout=Layout(height='auto', width='100%'), width=1024)",
      "application/vnd.jupyter.widget-view+json": {
       "version_major": 2,
       "version_minor": 0,
       "model_id": "98f395a668274eb18bd2cad0a04908c7"
      }
     },
     "metadata": {}
    },
    {
     "output_type": "execute_result",
     "data": {
      "text/plain": [
       "[(84702.22192807864, 448135.0034280786, 328.2819280786408),\n",
       " (84384.44, 447817.2215, 10.5),\n",
       " (0.0, 0.0, 1.0)]"
      ]
     },
     "metadata": {},
     "execution_count": 7
    }
   ],
   "source": [
    "# initiating the plotter\n",
    "p = pv.Plotter(notebook=True)\n",
    "\n",
    "# fast visualization of the lattice\n",
    "interior_lattice.fast_vis(p)\n",
    "\n",
    "# adding the context mesh: white\n",
    "p.add_mesh(dt.tri_to_pv(context_mesh), color='#aaaaaa')\n",
    "\n",
    "# plotting\n",
    "p.show(use_ipyvtk=True)\n",
    "\n",
    "\n",
    "# #saving and plotting\n",
    "# png_path = os.path.relpath('../ful_lowres_lattice.png')\n",
    "# p.show(screenshot= png_path)"
   ]
  },
  {
   "cell_type": "markdown",
   "metadata": {},
   "source": [
    "## 3. Saving the lattice to CSV"
   ]
  },
  {
   "cell_type": "code",
   "execution_count": 8,
   "metadata": {},
   "outputs": [],
   "source": [
    "# save the voxelized lattice to a CSV\n",
    "lattice_dir = '../data/CSV_files/voxelized_envelope.csv'\n",
    "dt.save_to_clean_csv(interior_lattice, lattice_dir)"
   ]
  },
  {
   "cell_type": "code",
   "execution_count": 9,
   "metadata": {},
   "outputs": [],
   "source": []
  }
 ],
 "metadata": {
  "kernelspec": {
   "name": "python384jvsc74a57bd07bab519eaee00f5a36818a1fec79a4512342b76c2b97edf1e769d1f51660a6b2",
   "display_name": "Python 3.8.4 64-bit ('sc_workshops': conda)"
  },
  "language_info": {
   "codemirror_mode": {
    "name": "ipython",
    "version": 3
   },
   "file_extension": ".py",
   "mimetype": "text/x-python",
   "name": "python",
   "nbconvert_exporter": "python",
   "pygments_lexer": "ipython3",
   "version": "3.8.4"
  },
  "interpreter": {
   "hash": "f8b4632722eedeef144f2edd56d00b3dd918611df436bef42fdd910d93add0b5"
  }
 },
 "nbformat": 4,
 "nbformat_minor": 2
}