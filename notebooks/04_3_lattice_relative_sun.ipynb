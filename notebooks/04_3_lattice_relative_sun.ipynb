{
 "cells": [
  {
   "cell_type": "code",
   "execution_count": 1,
   "metadata": {},
   "outputs": [],
   "source": [
    "import os\n",
    "import topogenesis as tg\n",
    "import pyvista as pv\n",
    "import trimesh as tm\n",
    "import numpy as np\n",
    "from ladybug.sunpath import Sunpath\n",
    "from scipy.interpolate import RegularGridInterpolator\n",
    "import digital_twinning as dt\n",
    "import pandas as pd"
   ]
  },
  {
   "cell_type": "code",
   "execution_count": 2,
   "metadata": {},
   "outputs": [],
   "source": [
    "#loading envelope and context from obj \n",
    "envelope_path = os.path.relpath('../data/OBJ_files/building_envelope.obj')\n",
    "context_path = os.path.relpath('../data/OBJ_files/final_BAG3D.obj')\n",
    "\n",
    "# load the mesh from file\n",
    "envelope_mesh = tm.load(envelope_path)\n",
    "context_mesh = tm.load(context_path)\n"
   ]
  },
  {
   "cell_type": "code",
   "execution_count": 3,
   "metadata": {},
   "outputs": [
    {
     "data": {
      "application/vnd.jupyter.widget-view+json": {
       "model_id": "df6dbf2750f1443b8ccc6e2b5c6b4362",
       "version_major": 2,
       "version_minor": 0
      },
      "text/plain": "ViewInteractiveWidget(height=768, layout=Layout(height='auto', width='100%'), width=1024)"
     },
     "metadata": {},
     "output_type": "display_data"
    },
    {
     "data": {
      "text/plain": "[(84701.87724865344, 448134.6587486534, 327.4372486534429),\n (84384.44, 447817.2215, 10.0),\n (0.0, 0.0, 1.0)]"
     },
     "execution_count": 3,
     "metadata": {},
     "output_type": "execute_result"
    }
   ],
   "source": [
    "# convert mesh to pv_mesh\n",
    "# initiating the plotter\n",
    "p = pv.Plotter(notebook=True)\n",
    "\n",
    "# adding the meshes\n",
    "p.add_mesh(dt.tri_to_pv(envelope_mesh), color='#abd8ff')\n",
    "p.add_mesh(dt.tri_to_pv(context_mesh), color='#aaaaaa')\n",
    "\n",
    "# plotting\n",
    "p.show(use_ipyvtk=True)"
   ]
  },
  {
   "cell_type": "code",
   "execution_count": 4,
   "metadata": {},
   "outputs": [],
   "source": [
    "# loading the lattice from csv\n",
    "lattice_path = os.path.relpath('../data/CSV_files/voxelized_envelope.csv')\n",
    "\n",
    "envelope_lattice = tg.lattice_from_csv(lattice_path)\n",
    "\n",
    "#setting the full lattice \n",
    "full_lattice = envelope_lattice * 0 + 1"
   ]
  },
  {
   "cell_type": "code",
   "execution_count": 5,
   "metadata": {},
   "outputs": [
    {
     "data": {
      "application/vnd.jupyter.widget-view+json": {
       "model_id": "efc90624bbaa4d75a8fee9122c0f7fef",
       "version_major": 2,
       "version_minor": 0
      },
      "text/plain": "ViewInteractiveWidget(height=768, layout=Layout(height='auto', width='100%'), width=1024)"
     },
     "metadata": {},
     "output_type": "display_data"
    },
    {
     "data": {
      "text/plain": "[(84702.22192807864, 448135.0034280786, 328.2819280786408),\n (84384.44, 447817.2215, 10.5),\n (0.0, 0.0, 1.0)]"
     },
     "execution_count": 5,
     "metadata": {},
     "output_type": "execute_result"
    }
   ],
   "source": [
    "# initiating the plotter\n",
    "p = pv.Plotter(notebook=True)\n",
    "\n",
    "# fast visualization of the lattice\n",
    "envelope_lattice.fast_vis(p)\n",
    "\n",
    "# adding the context mesh: white\n",
    "p.add_mesh(dt.tri_to_pv(context_mesh), color='#aaaaaa')\n",
    "\n",
    "# plotting\n",
    "p.show(use_ipyvtk=True)"
   ]
  },
  {
   "cell_type": "code",
   "execution_count": 6,
   "metadata": {},
   "outputs": [],
   "source": [
    "# loading the lattice from csv\n",
    "lattice_path = os.path.relpath('../data/CSV_files/shadow_blocking.csv')\n",
    "\n",
    "envelope_lattice = tg.lattice_from_csv(lattice_path)\n",
    "\n",
    "#setting the full lattice \n",
    "full_lattice = envelope_lattice * 0 + 1"
   ]
  },
  {
   "cell_type": "code",
   "execution_count": 7,
   "metadata": {},
   "outputs": [
    {
     "data": {
      "application/vnd.jupyter.widget-view+json": {
       "model_id": "2200e699f0904870859a395e1cebb796",
       "version_major": 2,
       "version_minor": 0
      },
      "text/plain": "ViewInteractiveWidget(height=768, layout=Layout(height='auto', width='100%'), width=1024)"
     },
     "metadata": {},
     "output_type": "display_data"
    },
    {
     "data": {
      "text/plain": "[(84437.64150606234, 447871.14150606235, 61.14150606233578),\n (84384.0, 447817.5, 7.5),\n (0.0, 0.0, 1.0)]"
     },
     "execution_count": 7,
     "metadata": {},
     "output_type": "execute_result"
    }
   ],
   "source": [
    "# initiating the plotter\n",
    "p = pv.Plotter(notebook=True)\n",
    "\n",
    "base_lattice = envelope_lattice\n",
    "\n",
    "# Create the spatial reference\n",
    "grid = pv.UniformGrid()\n",
    "\n",
    "# Set the grid dimensions: shape because we want to inject our values\n",
    "grid.dimensions = np.array(base_lattice.shape) + 1\n",
    "# The bottom left corner of the data set\n",
    "grid.origin = base_lattice.minbound - base_lattice.unit * 0.5\n",
    "# These are the cell sizes along each axis\n",
    "grid.spacing = base_lattice.unit\n",
    "\n",
    "# Add the data values to the cell data\n",
    "grid.cell_arrays[\"Agents\"] = base_lattice.flatten(order=\"F\") # Flatten the array!\n",
    "# filtering the voxels\n",
    "threshed = grid.threshold([0.000, 1])\n",
    "\n",
    "# adding the voxels\n",
    "p.add_mesh(threshed, cmap='plasma', name='sphere', show_edges=False, opacity=1.0, show_scalar_bar=True)\n",
    "# adding the context mesh\n",
    "# p.add_mesh(dt.tri_to_pv(context_mesh), opacity=1)\n",
    "\n",
    "# plotting\n",
    "p.show(use_ipyvtk=True)"
   ]
  },
  {
   "cell_type": "code",
   "execution_count": null,
   "metadata": {},
   "outputs": [],
   "source": []
  }
 ],
 "metadata": {
  "kernelspec": {
   "display_name": "Python 3.8.4 64-bit ('sc_workshops': conda)",
   "name": "python384jvsc74a57bd07bab519eaee00f5a36818a1fec79a4512342b76c2b97edf1e769d1f51660a6b2"
  },
  "language_info": {
   "codemirror_mode": {
    "name": "ipython",
    "version": 3
   },
   "file_extension": ".py",
   "mimetype": "text/x-python",
   "name": "python",
   "nbconvert_exporter": "python",
   "pygments_lexer": "ipython3",
   "version": "3.8.4"
  },
  "orig_nbformat": 2
 },
 "nbformat": 4,
 "nbformat_minor": 2
}